{
 "cells": [
  {
   "cell_type": "markdown",
   "metadata": {},
   "source": [
    "Link For Dataset: http://snap.stanford.edu/data/wiki-topcats.html"
   ]
  },
  {
   "cell_type": "code",
   "execution_count": 1,
   "metadata": {},
   "outputs": [],
   "source": [
    "def get_files():\n",
    "    #Edgelist of All Connected Nodes\n",
    "    topcats = open('wiki-topcats.txt', 'r')\n",
    "\n",
    "    #Page Names of Every Node\n",
    "    topcats_page_names = open('wiki-topcats-page-names.txt', 'r')\n",
    "\n",
    "    #Categories & All Pages Within Each Category\n",
    "    topcats_categories = open('wiki-topcats-categories.txt', 'r')\n",
    "    \n",
    "    return topcats, topcats_page_names, topcats_categories\n",
    "\n",
    "def load_data(topcats):\n",
    "    data = np.loadtxt(topcats, dtype=int)\n",
    "    return data\n",
    "\n",
    "#Function to get all category names to a list\n",
    "def all_categories(cat_list, lines):\n",
    "    for line in lines:\n",
    "        line = line.strip()\n",
    "        line = line.split(' ')\n",
    "        category = line[0]\n",
    "        cat_list.append(category)\n",
    "        \n",
    "    return cat_list\n",
    "\n",
    "#Function to convert categories (key) & pages in each category (value) into a dictionary\n",
    "def lines_to_dict(dictionary, lines):\n",
    "    for line in lines:\n",
    "        line = line.strip()\n",
    "        line = line.split(' ')\n",
    "        key = line[0]\n",
    "        values = line[1:]\n",
    "        int_values = [eval(i) for i in values]\n",
    "        dictionary[key] = int_values\n",
    "        \n",
    "    return dictionary\n",
    "\n",
    "def make_catlist_catdict(topcats_categories):\n",
    "    category_lines = topcats_categories.readlines()\n",
    "    cat_list = []\n",
    "    cat_list = all_categories(cat_list, category_lines)\n",
    "\n",
    "    cat_dict = {}\n",
    "    cat_dict = lines_to_dict(cat_dict, category_lines)\n",
    "    \n",
    "    return cat_list, cat_dict\n",
    "\n",
    "#Only necessary if you want to see the page names/articles\n",
    "def get_pages(topcats_page_names):\n",
    "    page_lines = topcats_page_names.readlines()\n",
    "\n",
    "    pages = {}\n",
    "\n",
    "    for line in page_lines:\n",
    "        line = line.strip()\n",
    "        line = line.split(' ')\n",
    "        key = int(line[0])\n",
    "        values = line[1:]\n",
    "        str_values = ' '.join(values)\n",
    "        pages[key] = str_values\n",
    "        \n",
    "    return pages\n",
    "\n",
    "def make_digraph(data):\n",
    "    DG = nx.DiGraph()\n",
    "    DG.add_edges_from(data)\n",
    "    \n",
    "    return DG\n",
    "\n",
    "#Returns two random categories\n",
    "def get_rand_cats(cat_list):\n",
    "    cat_inds = []\n",
    "    start = 0\n",
    "    end = len(cat_list)\n",
    "\n",
    "    for i in range(2):\n",
    "        num = random.randint(start, end)\n",
    "        cat_inds.append(num)\n",
    "    \n",
    "    #print(cat_inds)    \n",
    "    return cat_inds\n",
    "\n",
    "def get_rand_cat_list(num_cats, cat_list):\n",
    "    cat_inds = []\n",
    "    start = 0\n",
    "    end = len(cat_list)\n",
    "\n",
    "    for i in range(num_cats):\n",
    "        num = random.randint(start, end)\n",
    "        cat_inds.append(num)\n",
    "    \n",
    "    #print(cat_inds)    \n",
    "    return cat_inds\n",
    "\n",
    "#Returns Array of Page Numbers from Category Dictionary \n",
    "def get_cat_pages(category, cat_dict):\n",
    "    return cat_dict.get(category)\n",
    "\n",
    "def checks(data, cat_list, DG):\n",
    "    if len(data) == 28511807:\n",
    "        print('Data Transferred Correctly\\n')\n",
    "    else:\n",
    "        print('Data Transferred Incorrectly\\n')\n",
    "        return False\n",
    "    \n",
    "    if len(cat_list) == 17364:\n",
    "        print('Category List Transferred Correctly\\n')\n",
    "    else:\n",
    "        print('Category List Transferred Incorrectly\\n')\n",
    "        return False\n",
    "    \n",
    "    if DG.number_of_nodes() == 1791489:\n",
    "        print('DiGraph Made Correctly\\n')\n",
    "    else:\n",
    "        print('DiGraph Made Incorrectly\\n')\n",
    "        return False\n",
    "    \n",
    "    print('All Check Passed')\n",
    "    return True\n",
    "\n",
    "#Path Functions\n",
    "\n",
    "#Returns length of the shortest path between Node 1 and Node 2\n",
    "def shortest_path_nodes(DG, node1, node2):\n",
    "    path = nx.shortest_path(DG, node1, node2)\n",
    "    return len(path)\n",
    "\n",
    "#Returns Average Shortest Path Length of One Page from the First Category to Every Page From Another Category\n",
    "def avg_shortest_path_nodes(DG, cat1_page, cat2, cat_list, cat_dict):\n",
    "    paths = []\n",
    "    pages_in_cat2 = cat_dict.get(cat_list[cat2])\n",
    "    \n",
    "    for cat2_page in pages_in_cat2:\n",
    "        path = shortest_path_nodes(DG, cat1_page, cat2_page)\n",
    "        paths.append(path)\n",
    "    \n",
    "    np_paths = np.array(paths)\n",
    "    avg_path_length = np.average(np_paths)\n",
    "    \n",
    "    return avg_path_length\n",
    "\n",
    "#Returns the Average Shortest Path Length Between Two Categories\n",
    "def avg_shortest_path_cats(DG, cat1, cat2, cat_list, cat_dict):\n",
    "    avg_paths = []\n",
    "    pages_in_cat1 = cat_dict.get(cat_list[cat1])\n",
    "    \n",
    "    for cat1_page in pages_in_cat1:\n",
    "        avg_path = avg_shortest_path_nodes(DG, cat1_page, cat2, cat_list, cat_dict)\n",
    "        avg_paths.append(avg_path)\n",
    "    \n",
    "    np_avg_paths = np.array(avg_paths)\n",
    "    avg_path_cats = np.average(np_avg_paths)\n",
    "    \n",
    "    return avg_path_cats\n",
    "\n",
    "#Correlation Functions\n",
    "\n",
    "def find_correlations(DG, cat1, sub_cat_list, cat_list, cat_dict):\n",
    "    correlations = {}\n",
    "    \n",
    "    for cat2 in sub_cat_list:\n",
    "        #Does no compare against itself\n",
    "        if cat1 == cat2:\n",
    "            continue\n",
    "        \n",
    "        #key_str = 'Category 1: ' + cat_list[cat1] + '-> Category 2: ' + cat_list[cat2]\n",
    "        key_str = cat_list[cat1] + ' -> ' + cat_list[cat2]\n",
    "        \n",
    "        #Dictionary\n",
    "        #every key is the input category, and then the category it is being compared to\n",
    "        #the values is the avgerage shortest path between the two categories\n",
    "        key = key_str\n",
    "        values = avg_shortest_path_cats(DG, cat1, cat2, cat_list, cat_dict)\n",
    "        correlations[key] = values\n",
    "    \n",
    "    return correlations\n",
    "\n",
    "def cat_correlations(DG, sub_cat_list, cat_list, cat_dict):\n",
    "    #array of dictionaries\n",
    "    correlations = []\n",
    "    \n",
    "    for cat in sub_cat_list:\n",
    "        correlations.append(find_correlations(DG, cat, sub_cat_list, cat_list, cat_dict))   \n",
    "    \n",
    "    return correlations\n",
    "\n",
    "#Min Correlation = Largset Number, meaning largest average shortest path between two categories\n",
    "#Max Correlation = Smallest Number, meaning smallest avergae shortest path between two categories\n",
    "\n",
    "def min_max_correlation(correlations, sub_cat_list, cat_list):\n",
    "    i = 0\n",
    "    \n",
    "    #Loops through array of dictionaries\n",
    "    for correlation in correlations:\n",
    "        #Initial Values\n",
    "        #anything larger than 0 will replcae this number\n",
    "        min_corr = 0 \n",
    "        #anything smaller than 10 will replace this number, 10 chosen because the longest shortest path in the whole\n",
    "        #dataset is 9\n",
    "        max_corr = 10\n",
    "        \n",
    "        #Loops through dictionary to find min and max correlations\n",
    "        for key in correlation:\n",
    "            corr = correlation.get(key)\n",
    "            if corr > min_corr:\n",
    "                min_key = key\n",
    "                min_corr = correlation.get(key)\n",
    "\n",
    "            elif corr < max_corr:\n",
    "                max_key = key\n",
    "                max_corr = correlation.get(key)\n",
    "            \n",
    "        print(cat_list[sub_cat_list[i]])\n",
    "        print(f'Minimum Correlation: {min_key}\\nAverage Shortest Path Between Categories: {min_corr}')\n",
    "        print(f'Maximum Correlatoin: {max_key}\\nAverage Shortest Path Between Categories: {max_corr}\\n')\n",
    "        \n",
    "        i += 1\n",
    "        \n",
    "def generate_sublist(subset_num, cat_list):\n",
    "    sub_cat_list = get_rand_cat_list(subset_num, cat_list)\n",
    "    for cat in sub_cat_list:\n",
    "        print(cat, cat_list[cat])\n",
    "        \n",
    "    return sub_cat_list\n",
    "\n",
    "#Examples\n",
    "\n",
    "def print_path(DG, cat1, cat2, node1, node2, page_titles):\n",
    "    path = nx.shortest_path(DG, node1, node2)\n",
    "    path_str = ''\n",
    "    step = 1\n",
    "    print(f'\\nStarting {cat1}')\n",
    "    for i in path:\n",
    "        page = page_titles.get(i)\n",
    "        path_str = path_str + page + ' -> '\n",
    "        print(f'Step: {step} - Page Title: {page}')\n",
    "        step += 1\n",
    "    print(f'Ending {cat2}')\n",
    "    print(f'\\nPath: {path_str[:-4]}')\n",
    "    print(f'Path As Nodes: {path}')\n",
    "    print(f'Length of Shortest Path: {len(path)}')\n",
    "\n",
    "#Provides Base Examples of What this Project is About For Explanation Purposes\n",
    "def example(DG, cat_list, cat_dict, page_titles):\n",
    "    ex_cats = get_rand_cats(cat_list)\n",
    "    ex_cat1 = cat_list[ex_cats[0]]\n",
    "    ex_cat2 = cat_list[ex_cats[1]]\n",
    "    print(f'Example Categories:\\n{ex_cat1}\\n{ex_cat2}')\n",
    "    \n",
    "    ex_cat1_pages = cat_dict.get(ex_cat1)\n",
    "    ex_cat2_pages = cat_dict.get(ex_cat2)\n",
    "    print(f'\\nExample Category Pages:\\n\\n{ex_cat1}\\nPages: {ex_cat1_pages}\\n\\n{ex_cat2}\\nPages: {ex_cat2_pages}')\n",
    "    \n",
    "    ex_cat1_node = ex_cat1_pages[0]\n",
    "    ex_cat1_node_page_title = page_titles.get(ex_cat1_node)\n",
    "    ex_cat2_node = ex_cat2_pages[0]\n",
    "    ex_cat2_node_page_title = page_titles.get(ex_cat2_node)\n",
    "    print(f'\\nExample Page/Article Titles:\\n\\n{ex_cat1}\\nPage Node: {ex_cat1_node}\\nPage Title: {ex_cat1_node_page_title}\\n\\n{ex_cat2}\\nPage Node: {ex_cat2_node}\\nPage Title: {ex_cat2_node_page_title}')\n",
    "    \n",
    "    print('\\nExample Shortest Path:')\n",
    "    print_path(DG, ex_cat1, ex_cat2, ex_cat1_node, ex_cat2_node, page_titles)\n",
    "    ex_cat2_node2 = ex_cat2_pages[1]\n",
    "    print_path(DG, ex_cat1, ex_cat2, ex_cat1_node, ex_cat2_node2, page_titles)\n",
    "    \n",
    "    print(f'\\nExample Category List:')\n",
    "    sublist_len5 = generate_sublist(5, cat_list)\n",
    "    \n",
    "def insertion_sort(cat_list, cat_dict):\n",
    "    sorted_cat_list = cat_list\n",
    "    for i in range(1, len(sorted_cat_list)):\n",
    " \n",
    "        #String of category name\n",
    "        key = sorted_cat_list[i]\n",
    "        \n",
    "        #Number of Articles in Category\n",
    "        num_articles = len(cat_dict.get(key))\n",
    "\n",
    "        j = i-1\n",
    "        while j >= 0 and num_articles < len(cat_dict.get(sorted_cat_list[j])) :\n",
    "                sorted_cat_list[j + 1] = sorted_cat_list[j]\n",
    "                j -= 1\n",
    "        sorted_cat_list[j + 1] = key\n",
    "    \n",
    "    return sorted_cat_list\n",
    "\n",
    "#Returns new dictionary of sampled categories\n",
    "# sample_size = number of articles to sample from category\n",
    "# cats_to_sample = list of categories to sample from (will use most_popular_cats array)\n",
    "# temp_cat_list = category list to append with new category titles\n",
    "# cat_dict = categoy dictionary to add new categories and sampled articles\n",
    "# returns nothing\n",
    "#Doing it this way for purpose of using previously made functions, cat_correlations takes \n",
    "#numbers to represent the index of the category in cat_list. Allows for using same logic.\n",
    "\n",
    "def sample_category(sample_size, cats_to_sample, temp_cat_list, cat_dict):\n",
    "    for cat in cats_to_sample:\n",
    "        #String to use as new key in dictionary and category array\n",
    "        sample_cat_name = cat + '-sample'\n",
    "        #Appending category array with new category\n",
    "        temp_cat_list.append(sample_cat_name)\n",
    "        \n",
    "        #Empty array for appending randomly selected articles\n",
    "        sampled_articles = []\n",
    "        \n",
    "        #Gets the value/array of articles from dictionary\n",
    "        articles_in_cat = cat_dict.get(cat)\n",
    "        \n",
    "        #Start and Ending indexes that is randomly selected from article array\n",
    "        start_ind = 0\n",
    "        end_ind = len(articles_in_cat)\n",
    "        \n",
    "        #Loops for number of samples required\n",
    "        for i in range(sample_size):\n",
    "            #Loops until article not previously sampled is chosen, prevents potential repeats in the sample \n",
    "            while True:\n",
    "                #random index\n",
    "                rand_ind = random.randint(start_ind, end_ind)\n",
    "                #gets value/article at random index\n",
    "                article = articles_in_cat[rand_ind]\n",
    "                \n",
    "                if article not in sampled_articles:\n",
    "                    sampled_articles.append(article)\n",
    "                    break\n",
    "            \n",
    "        #Put Sampled Articles into Dictionary\n",
    "        cat_dict[sample_cat_name] = sampled_articles"
   ]
  },
  {
   "cell_type": "code",
   "execution_count": 2,
   "metadata": {},
   "outputs": [
    {
     "name": "stdout",
     "output_type": "stream",
     "text": [
      "Data Transferred Correctly\n",
      "\n",
      "Category List Transferred Correctly\n",
      "\n",
      "DiGraph Made Correctly\n",
      "\n",
      "All Check Passed\n"
     ]
    },
    {
     "data": {
      "text/plain": [
       "True"
      ]
     },
     "execution_count": 2,
     "metadata": {},
     "output_type": "execute_result"
    }
   ],
   "source": [
    "#Start Up - will take a few minutes\n",
    "\n",
    "#Imports\n",
    "import pandas as pd\n",
    "import numpy as np\n",
    "import networkx as nx\n",
    "import random\n",
    "\n",
    "#Files\n",
    "topcats, topcats_page_names, topcats_categories = get_files()\n",
    "#Page Titles\n",
    "page_titles = get_pages(topcats_page_names) \n",
    "#Data/Edge List\n",
    "data = load_data(topcats)\n",
    "#Category Name List & Category Page Dictionary\n",
    "cat_list, cat_dict = make_catlist_catdict(topcats_categories)\n",
    "#Make Graph\n",
    "DG = make_digraph(data)\n",
    "#Checks\n",
    "checks(data, cat_list, DG)"
   ]
  },
  {
   "cell_type": "code",
   "execution_count": 36,
   "metadata": {},
   "outputs": [
    {
     "name": "stdout",
     "output_type": "stream",
     "text": [
      "2428 Category:Canadian_ice_hockey_forwards;\n",
      "5226 Category:United_States_Navy_nuclear_ships;\n",
      "8650 Category:Rosids_of_Western_Australia;\n",
      "5364 Category:Mammals_of_the_Northern_Territory;\n",
      "5792 Category:Teachta_Dla;\n"
     ]
    }
   ],
   "source": [
    "subset_num = 5\n",
    "sub_cat_list = get_rand_cat_list(subset_num, cat_list)\n",
    "for cat in sub_cat_list:\n",
    "    print(cat, cat_list[cat])"
   ]
  },
  {
   "cell_type": "code",
   "execution_count": 37,
   "metadata": {},
   "outputs": [
    {
     "data": {
      "text/plain": [
       "[{'Category:Canadian_ice_hockey_forwards; -> Category:United_States_Navy_nuclear_ships;': 6.066238100656124,\n",
       "  'Category:Canadian_ice_hockey_forwards; -> Category:Rosids_of_Western_Australia;': 6.587187767669051,\n",
       "  'Category:Canadian_ice_hockey_forwards; -> Category:Mammals_of_the_Northern_Territory;': 6.43020522770653,\n",
       "  'Category:Canadian_ice_hockey_forwards; -> Category:Teachta_Dla;': 5.8135352855183555},\n",
       " {'Category:United_States_Navy_nuclear_ships; -> Category:Canadian_ice_hockey_forwards;': 6.218246292714378,\n",
       "  'Category:United_States_Navy_nuclear_ships; -> Category:Rosids_of_Western_Australia;': 6.401094915722575,\n",
       "  'Category:United_States_Navy_nuclear_ships; -> Category:Mammals_of_the_Northern_Territory;': 6.1533138768593485,\n",
       "  'Category:United_States_Navy_nuclear_ships; -> Category:Teachta_Dla;': 5.919795236686905},\n",
       " {'Category:Rosids_of_Western_Australia; -> Category:Canadian_ice_hockey_forwards;': 6.867618121628817,\n",
       "  'Category:Rosids_of_Western_Australia; -> Category:United_States_Navy_nuclear_ships;': 6.379576540480795,\n",
       "  'Category:Rosids_of_Western_Australia; -> Category:Mammals_of_the_Northern_Territory;': 5.76948051948052,\n",
       "  'Category:Rosids_of_Western_Australia; -> Category:Teachta_Dla;': 6.154107952554396},\n",
       " {'Category:Mammals_of_the_Northern_Territory; -> Category:Canadian_ice_hockey_forwards;': 6.7173031722745415,\n",
       "  'Category:Mammals_of_the_Northern_Territory; -> Category:United_States_Navy_nuclear_ships;': 6.264027490114857,\n",
       "  'Category:Mammals_of_the_Northern_Territory; -> Category:Rosids_of_Western_Australia;': 5.57260659694288,\n",
       "  'Category:Mammals_of_the_Northern_Territory; -> Category:Teachta_Dla;': 5.939138488701078},\n",
       " {'Category:Teachta_Dla; -> Category:Canadian_ice_hockey_forwards;': 6.524053968573232,\n",
       "  'Category:Teachta_Dla; -> Category:United_States_Navy_nuclear_ships;': 6.10806179433204,\n",
       "  'Category:Teachta_Dla; -> Category:Rosids_of_Western_Australia;': 6.558595533656859,\n",
       "  'Category:Teachta_Dla; -> Category:Mammals_of_the_Northern_Territory;': 6.172794303866165}]"
      ]
     },
     "execution_count": 37,
     "metadata": {},
     "output_type": "execute_result"
    }
   ],
   "source": [
    "correlations = cat_correlations(DG, sub_cat_list)\n",
    "correlations"
   ]
  },
  {
   "cell_type": "code",
   "execution_count": 39,
   "metadata": {},
   "outputs": [
    {
     "name": "stdout",
     "output_type": "stream",
     "text": [
      "Category:Canadian_ice_hockey_forwards;\n",
      "Minimum Correlation: Category:Canadian_ice_hockey_forwards; -> Category:Rosids_of_Western_Australia;\n",
      "Average Shortest Path Between Categories: 6.587187767669051\n",
      "Maximum Correlatoin: Category:Canadian_ice_hockey_forwards; -> Category:Teachta_Dla;\n",
      "Average Shortest Path Between Categories: 5.8135352855183555\n",
      "\n",
      "Category:United_States_Navy_nuclear_ships;\n",
      "Minimum Correlation: Category:United_States_Navy_nuclear_ships; -> Category:Rosids_of_Western_Australia;\n",
      "Average Shortest Path Between Categories: 6.401094915722575\n",
      "Maximum Correlatoin: Category:United_States_Navy_nuclear_ships; -> Category:Teachta_Dla;\n",
      "Average Shortest Path Between Categories: 5.919795236686905\n",
      "\n",
      "Category:Rosids_of_Western_Australia;\n",
      "Minimum Correlation: Category:Rosids_of_Western_Australia; -> Category:Canadian_ice_hockey_forwards;\n",
      "Average Shortest Path Between Categories: 6.867618121628817\n",
      "Maximum Correlatoin: Category:Rosids_of_Western_Australia; -> Category:Mammals_of_the_Northern_Territory;\n",
      "Average Shortest Path Between Categories: 5.76948051948052\n",
      "\n",
      "Category:Mammals_of_the_Northern_Territory;\n",
      "Minimum Correlation: Category:Mammals_of_the_Northern_Territory; -> Category:Canadian_ice_hockey_forwards;\n",
      "Average Shortest Path Between Categories: 6.7173031722745415\n",
      "Maximum Correlatoin: Category:Mammals_of_the_Northern_Territory; -> Category:Rosids_of_Western_Australia;\n",
      "Average Shortest Path Between Categories: 5.57260659694288\n",
      "\n",
      "Category:Teachta_Dla;\n",
      "Minimum Correlation: Category:Teachta_Dla; -> Category:Rosids_of_Western_Australia;\n",
      "Average Shortest Path Between Categories: 6.558595533656859\n",
      "Maximum Correlatoin: Category:Teachta_Dla; -> Category:United_States_Navy_nuclear_ships;\n",
      "Average Shortest Path Between Categories: 6.10806179433204\n",
      "\n"
     ]
    }
   ],
   "source": [
    "min_max_correlation(correlations, sub_cat_list)"
   ]
  },
  {
   "cell_type": "code",
   "execution_count": 97,
   "metadata": {
    "scrolled": false
   },
   "outputs": [],
   "source": [
    "#example(DG, cat_list, cat_dict, page_titles)"
   ]
  },
  {
   "cell_type": "code",
   "execution_count": 11,
   "metadata": {},
   "outputs": [],
   "source": [
    "temp_cat_list = cat_list.copy()\n",
    "sorted_cat_list = insertion_sort(temp_cat_list, cat_dict)"
   ]
  },
  {
   "cell_type": "code",
   "execution_count": 12,
   "metadata": {},
   "outputs": [
    {
     "data": {
      "text/plain": [
       "['Category:American_film_actors;',\n",
       " 'Category:American_films;',\n",
       " 'Category:English-language_films;',\n",
       " 'Category:Year_of_birth_missing_(living_people);',\n",
       " 'Category:Living_people;']"
      ]
     },
     "execution_count": 12,
     "metadata": {},
     "output_type": "execute_result"
    }
   ],
   "source": [
    "most_popular_cats = sorted_cat_list[-5:]\n",
    "most_popular_cats"
   ]
  },
  {
   "cell_type": "code",
   "execution_count": 13,
   "metadata": {},
   "outputs": [
    {
     "name": "stdout",
     "output_type": "stream",
     "text": [
      "Category:American_film_actors; 13938\n",
      "Category:American_films; 15302\n",
      "Category:English-language_films; 22699\n",
      "Category:Year_of_birth_missing_(living_people); 34721\n",
      "Category:Living_people; 418223\n"
     ]
    }
   ],
   "source": [
    "for i in most_popular_cats:\n",
    "    print(i, len(cat_dict.get(i)))"
   ]
  },
  {
   "cell_type": "code",
   "execution_count": 20,
   "metadata": {
    "scrolled": true
   },
   "outputs": [],
   "source": [
    "                "
   ]
  },
  {
   "cell_type": "code",
   "execution_count": 42,
   "metadata": {},
   "outputs": [],
   "source": [
    "temp_cat_dict = {}\n",
    "temp_arr = []\n",
    "sample_size = 100"
   ]
  },
  {
   "cell_type": "code",
   "execution_count": 43,
   "metadata": {},
   "outputs": [],
   "source": [
    "for i in most_popular_cats:\n",
    "    temp_arr.append(i)\n",
    "    values = cat_dict.get(i)\n",
    "    temp_cat_dict[i] = values"
   ]
  },
  {
   "cell_type": "code",
   "execution_count": 44,
   "metadata": {
    "scrolled": true
   },
   "outputs": [
    {
     "data": {
      "text/plain": [
       "['Category:American_film_actors;',\n",
       " 'Category:American_films;',\n",
       " 'Category:English-language_films;',\n",
       " 'Category:Year_of_birth_missing_(living_people);',\n",
       " 'Category:Living_people;']"
      ]
     },
     "execution_count": 44,
     "metadata": {},
     "output_type": "execute_result"
    }
   ],
   "source": [
    "temp_arr"
   ]
  },
  {
   "cell_type": "code",
   "execution_count": 45,
   "metadata": {
    "scrolled": false
   },
   "outputs": [
    {
     "name": "stdout",
     "output_type": "stream",
     "text": [
      "Category:American_film_actors; 13938\n",
      "Category:American_films; 15302\n",
      "Category:English-language_films; 22699\n",
      "Category:Year_of_birth_missing_(living_people); 34721\n",
      "Category:Living_people; 418223\n"
     ]
    }
   ],
   "source": [
    "for i in most_popular_cats:\n",
    "    print(i, len(temp_cat_dict.get(i)))"
   ]
  },
  {
   "cell_type": "code",
   "execution_count": 46,
   "metadata": {},
   "outputs": [],
   "source": [
    "sample_category(sample_size, most_popular_cats, temp_arr, temp_cat_dict)"
   ]
  },
  {
   "cell_type": "code",
   "execution_count": 47,
   "metadata": {},
   "outputs": [
    {
     "data": {
      "text/plain": [
       "['Category:American_film_actors;',\n",
       " 'Category:American_films;',\n",
       " 'Category:English-language_films;',\n",
       " 'Category:Year_of_birth_missing_(living_people);',\n",
       " 'Category:Living_people;',\n",
       " 'Category:American_film_actors;-sample',\n",
       " 'Category:American_films;-sample',\n",
       " 'Category:English-language_films;-sample',\n",
       " 'Category:Year_of_birth_missing_(living_people);-sample',\n",
       " 'Category:Living_people;-sample']"
      ]
     },
     "execution_count": 47,
     "metadata": {},
     "output_type": "execute_result"
    }
   ],
   "source": [
    "temp_arr"
   ]
  },
  {
   "cell_type": "code",
   "execution_count": 48,
   "metadata": {},
   "outputs": [
    {
     "data": {
      "text/plain": [
       "10"
      ]
     },
     "execution_count": 48,
     "metadata": {},
     "output_type": "execute_result"
    }
   ],
   "source": [
    "len(temp_arr)"
   ]
  },
  {
   "cell_type": "code",
   "execution_count": 50,
   "metadata": {
    "scrolled": true
   },
   "outputs": [
    {
     "data": {
      "text/plain": [
       "100"
      ]
     },
     "execution_count": 50,
     "metadata": {},
     "output_type": "execute_result"
    }
   ],
   "source": [
    "len(temp_cat_dict.get(temp_arr[5]))"
   ]
  },
  {
   "cell_type": "code",
   "execution_count": 57,
   "metadata": {},
   "outputs": [
    {
     "data": {
      "text/plain": [
       "[5, 6, 7, 8, 9]"
      ]
     },
     "execution_count": 57,
     "metadata": {},
     "output_type": "execute_result"
    }
   ],
   "source": [
    "sub_cat_list = [5, 6, 7, 8, 9]\n",
    "sub_cat_list"
   ]
  },
  {
   "cell_type": "code",
   "execution_count": 58,
   "metadata": {},
   "outputs": [
    {
     "data": {
      "text/plain": [
       "[{'Category:American_film_actors;-sample -> Category:American_films;-sample': 5.0309,\n",
       "  'Category:American_film_actors;-sample -> Category:English-language_films;-sample': 4.8461,\n",
       "  'Category:American_film_actors;-sample -> Category:Year_of_birth_missing_(living_people);-sample': 5.7573,\n",
       "  'Category:American_film_actors;-sample -> Category:Living_people;-sample': 5.880499999999999},\n",
       " {'Category:American_films;-sample -> Category:American_film_actors;-sample': 4.979,\n",
       "  'Category:American_films;-sample -> Category:English-language_films;-sample': 4.9096,\n",
       "  'Category:American_films;-sample -> Category:Year_of_birth_missing_(living_people);-sample': 5.949599999999999,\n",
       "  'Category:American_films;-sample -> Category:Living_people;-sample': 6.077799999999999},\n",
       " {'Category:English-language_films;-sample -> Category:American_film_actors;-sample': 4.9158,\n",
       "  'Category:English-language_films;-sample -> Category:American_films;-sample': 5.047000000000001,\n",
       "  'Category:English-language_films;-sample -> Category:Year_of_birth_missing_(living_people);-sample': 5.854499999999998,\n",
       "  'Category:English-language_films;-sample -> Category:Living_people;-sample': 5.988},\n",
       " {'Category:Year_of_birth_missing_(living_people);-sample -> Category:American_film_actors;-sample': 5.533699999999999,\n",
       "  'Category:Year_of_birth_missing_(living_people);-sample -> Category:American_films;-sample': 5.7254,\n",
       "  'Category:Year_of_birth_missing_(living_people);-sample -> Category:English-language_films;-sample': 5.5045,\n",
       "  'Category:Year_of_birth_missing_(living_people);-sample -> Category:Living_people;-sample': 6.157299999999999},\n",
       " {'Category:Living_people;-sample -> Category:American_film_actors;-sample': 5.5482,\n",
       "  'Category:Living_people;-sample -> Category:American_films;-sample': 5.739299999999998,\n",
       "  'Category:Living_people;-sample -> Category:English-language_films;-sample': 5.515899999999999,\n",
       "  'Category:Living_people;-sample -> Category:Year_of_birth_missing_(living_people);-sample': 6.0066}]"
      ]
     },
     "execution_count": 58,
     "metadata": {},
     "output_type": "execute_result"
    }
   ],
   "source": [
    "test_sample_correlations = cat_correlations(DG, sub_cat_list, temp_arr, temp_cat_dict)\n",
    "test_sample_correlations"
   ]
  },
  {
   "cell_type": "code",
   "execution_count": 61,
   "metadata": {},
   "outputs": [
    {
     "name": "stdout",
     "output_type": "stream",
     "text": [
      "Category:American_film_actors;-sample\n",
      "Minimum Correlation: Category:American_film_actors;-sample -> Category:Living_people;-sample\n",
      "Average Shortest Path Between Categories: 5.880499999999999\n",
      "Maximum Correlatoin: Category:American_film_actors;-sample -> Category:English-language_films;-sample\n",
      "Average Shortest Path Between Categories: 4.8461\n",
      "\n",
      "Category:American_films;-sample\n",
      "Minimum Correlation: Category:American_films;-sample -> Category:Living_people;-sample\n",
      "Average Shortest Path Between Categories: 6.077799999999999\n",
      "Maximum Correlatoin: Category:American_films;-sample -> Category:English-language_films;-sample\n",
      "Average Shortest Path Between Categories: 4.9096\n",
      "\n",
      "Category:English-language_films;-sample\n",
      "Minimum Correlation: Category:English-language_films;-sample -> Category:Living_people;-sample\n",
      "Average Shortest Path Between Categories: 5.988\n",
      "Maximum Correlatoin: Category:American_films;-sample -> Category:English-language_films;-sample\n",
      "Average Shortest Path Between Categories: 10\n",
      "\n",
      "Category:Year_of_birth_missing_(living_people);-sample\n",
      "Minimum Correlation: Category:Year_of_birth_missing_(living_people);-sample -> Category:Living_people;-sample\n",
      "Average Shortest Path Between Categories: 6.157299999999999\n",
      "Maximum Correlatoin: Category:Year_of_birth_missing_(living_people);-sample -> Category:English-language_films;-sample\n",
      "Average Shortest Path Between Categories: 5.5045\n",
      "\n",
      "Category:Living_people;-sample\n",
      "Minimum Correlation: Category:Living_people;-sample -> Category:Year_of_birth_missing_(living_people);-sample\n",
      "Average Shortest Path Between Categories: 6.0066\n",
      "Maximum Correlatoin: Category:Living_people;-sample -> Category:English-language_films;-sample\n",
      "Average Shortest Path Between Categories: 5.515899999999999\n",
      "\n"
     ]
    }
   ],
   "source": [
    "min_max_correlation(test_sample_correlations, sub_cat_list, temp_arr)"
   ]
  },
  {
   "cell_type": "code",
   "execution_count": 9,
   "metadata": {},
   "outputs": [
    {
     "name": "stdout",
     "output_type": "stream",
     "text": [
      "11306 Category:People_from_Hamburg;\n",
      "16059 Category:Railway_stations_served_by_First_Capital_Connect;\n",
      "618 Category:4th-century_Christian_saints;\n",
      "16312 Category:Polish_footballers;\n",
      "12291 Category:Brazilian_composers;\n"
     ]
    }
   ],
   "source": [
    "sublist_len5 = generate_sublist(5, cat_list)"
   ]
  },
  {
   "cell_type": "code",
   "execution_count": 10,
   "metadata": {},
   "outputs": [
    {
     "name": "stdout",
     "output_type": "stream",
     "text": [
      "11306 428\n",
      "16059 103\n",
      "618 170\n",
      "16312 944\n",
      "12291 134\n"
     ]
    }
   ],
   "source": [
    "for i in sublist_len5:\n",
    "    print(i, len(cat_dict.get(cat_list[i])))"
   ]
  },
  {
   "cell_type": "code",
   "execution_count": 13,
   "metadata": {
    "scrolled": true
   },
   "outputs": [
    {
     "name": "stdout",
     "output_type": "stream",
     "text": [
      "Example Categories:\n",
      "Category:2002_American_television_series_endings;\n",
      "Category:Christmas_compilation_albums;\n",
      "\n",
      "Example Category Pages:\n",
      "\n",
      "Category:2002_American_television_series_endings;\n",
      "Pages: [1142, 113279, 116150, 135042, 147605, 358169, 400344, 400426, 468507, 469325, 469327, 469372, 503592, 503621, 532602, 555812, 601802, 602251, 627131, 633747, 633796, 635953, 639452, 675536, 691619, 719584, 739166, 741384, 743946, 744387, 755692, 818304, 830477, 912877, 940789, 946885, 947093, 950560, 952771, 996140, 1001397, 1001451, 1014566, 1028575, 1028738, 1028781, 1031345, 1050063, 1077820, 1110275, 1131131, 1131133, 1131201, 1131267, 1131513, 1131764, 1132259, 1139547, 1141166, 1141281, 1141324, 1141345, 1141350, 1152059, 1152133, 1152141, 1152187, 1152201, 1152225, 1152256, 1152294, 1152582, 1161132, 1161154, 1161338, 1161459, 1161655, 1161861, 1161881, 1161936, 1162195, 1162353, 1162626, 1162813, 1162825, 1162945, 1162957, 1163019, 1163036, 1163058, 1163067, 1163114, 1163183, 1164220, 1164335, 1164337, 1164339, 1164372, 1164390, 1164429, 1164458, 1164468, 1164739, 1164796, 1164799, 1164951, 1166141, 1166222, 1166253, 1166413, 1166742, 1166801, 1166964, 1166965, 1166967, 1166981, 1167016, 1167017, 1167018, 1167019, 1167021, 1167029, 1167030, 1167188, 1167256, 1167265, 1167273, 1169292, 1169463, 1169735, 1169818, 1172679, 1176354, 1180526, 1190952, 1209059, 1211599, 1211648, 1219806, 1219876, 1248177, 1258587, 1293737, 1375303, 1375586, 1375664, 1376139, 1376214, 1376389, 1376422, 1376444, 1376451, 1376481, 1376649, 1376659, 1376667, 1377223, 1377447, 1431220, 1529967, 1530622, 1532695, 1532729, 1563008, 1713605, 1717526]\n",
      "\n",
      "Category:Christmas_compilation_albums;\n",
      "Pages: [142406, 231660, 329322, 395844, 395845, 395849, 395852, 482688, 564779, 564978, 656388, 677742, 690233, 690250, 690252, 690263, 690266, 690302, 690303, 690337, 690339, 690352, 690353, 690354, 690368, 690370, 690373, 690391, 690405, 690414, 690437, 690440, 690441, 690442, 690443, 690444, 690445, 690466, 690471, 690474, 690483, 690485, 690489, 690491, 690496, 690506, 690507, 690509, 690514, 690522, 690528, 690547, 690564, 690565, 690567, 690568, 690571, 690572, 690573, 690581, 690590, 690592, 690593, 690603, 690615, 690628, 690637, 690638, 690639, 690651, 690655, 690657, 690660, 690665, 690673, 690682, 690684, 690687, 690688, 690693, 690697, 691001, 700618, 776420, 810691, 810692, 810693, 810694, 1173770, 1173772, 1173775, 1179023, 1193005, 1196138, 1196139, 1196141, 1196142, 1196144, 1196145, 1196146, 1196381, 1196538, 1196539, 1196540, 1196541, 1196542, 1196543, 1196544, 1198785, 1212853, 1216775, 1217842, 1217846, 1217847, 1226797, 1227121, 1227889, 1240299, 1240424, 1242208, 1242209, 1242210, 1242211, 1242250, 1242595, 1242682, 1242683, 1243038, 1251440, 1278038, 1591290, 1591631]\n",
      "\n",
      "Example Page/Article Titles:\n",
      "\n",
      "Category:2002_American_television_series_endings;\n",
      "Page Node: 1142\n",
      "Page Title: Bram & Alice\n",
      "\n",
      "Category:Christmas_compilation_albums;\n",
      "Page Node: 142406\n",
      "Page Title: Wiggly, Wiggly Christmas\n",
      "\n",
      "Example Shortest Path:\n",
      "\n",
      "Starting Category:2002_American_television_series_endings;\n",
      "Step: 1 - Page Title: Bram & Alice\n",
      "Step: 2 - Page Title: CBS\n",
      "Step: 3 - Page Title: Rudolph the Red-Nosed Reindeer (TV special)\n",
      "Step: 4 - Page Title: Rudolph the Red-Nosed Reindeer\n",
      "Step: 5 - Page Title: Wiggly, Wiggly Christmas\n",
      "Ending Category:Christmas_compilation_albums;\n",
      "\n",
      "Path: Bram & Alice -> CBS -> Rudolph the Red-Nosed Reindeer (TV special) -> Rudolph the Red-Nosed Reindeer -> Wiggly, Wiggly Christmas\n",
      "Path As Nodes: [1142, 1163290, 1065498, 690488, 142406]\n",
      "Length of Shortest Path: 5\n",
      "\n",
      "Starting Category:2002_American_television_series_endings;\n",
      "Step: 1 - Page Title: Bram & Alice\n",
      "Step: 2 - Page Title: CBS\n",
      "Step: 3 - Page Title: Rudolph the Red-Nosed Reindeer (TV special)\n",
      "Step: 4 - Page Title: Rudolph the Red-Nosed Reindeer\n",
      "Step: 5 - Page Title: Christmas Time Again\n",
      "Ending Category:Christmas_compilation_albums;\n",
      "\n",
      "Path: Bram & Alice -> CBS -> Rudolph the Red-Nosed Reindeer (TV special) -> Rudolph the Red-Nosed Reindeer -> Christmas Time Again\n",
      "Path As Nodes: [1142, 1163290, 1065498, 690488, 231660]\n",
      "Length of Shortest Path: 5\n",
      "\n",
      "Example Category List:\n",
      "14521 Category:Canadian_television_reporters_and_correspondents;\n",
      "2835 Category:Iowa_State_University_alumni;\n",
      "10374 Category:Writers_Guild_of_America_Award_winners;\n",
      "3818 Category:1067_mm_gauge_railways_in_Japan;\n",
      "404 Category:Nanotechnology;\n"
     ]
    }
   ],
   "source": [
    "example(DG, cat_list, cat_dict, page_titles)"
   ]
  },
  {
   "cell_type": "code",
   "execution_count": null,
   "metadata": {},
   "outputs": [],
   "source": []
  },
  {
   "cell_type": "code",
   "execution_count": null,
   "metadata": {},
   "outputs": [],
   "source": []
  }
 ],
 "metadata": {
  "kernelspec": {
   "display_name": "Python 3",
   "language": "python",
   "name": "python3"
  },
  "language_info": {
   "codemirror_mode": {
    "name": "ipython",
    "version": 3
   },
   "file_extension": ".py",
   "mimetype": "text/x-python",
   "name": "python",
   "nbconvert_exporter": "python",
   "pygments_lexer": "ipython3",
   "version": "3.7.3"
  }
 },
 "nbformat": 4,
 "nbformat_minor": 2
}
