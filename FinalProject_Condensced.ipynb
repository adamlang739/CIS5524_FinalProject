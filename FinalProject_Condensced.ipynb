{
 "cells": [
  {
   "cell_type": "markdown",
   "metadata": {},
   "source": [
    "Link For Dataset: http://snap.stanford.edu/data/wiki-topcats.html"
   ]
  },
  {
   "cell_type": "code",
   "execution_count": 79,
   "metadata": {},
   "outputs": [],
   "source": [
    "def get_files():\n",
    "    #Edgelist of All Connected Nodes\n",
    "    topcats = open('wiki-topcats.txt', 'r')\n",
    "\n",
    "    #Page Names of Every Node\n",
    "    topcats_page_names = open('wiki-topcats-page-names.txt', 'r')\n",
    "\n",
    "    #Categories & All Pages Within Each Category\n",
    "    topcats_categories = open('wiki-topcats-categories.txt', 'r')\n",
    "    \n",
    "    return topcats, topcats_page_names, topcats_categories\n",
    "\n",
    "def load_data(topcats):\n",
    "    data = np.loadtxt(topcats, dtype=int)\n",
    "    return data\n",
    "\n",
    "#Function to get all category names to a list\n",
    "def all_categories(cat_list, lines):\n",
    "    for line in lines:\n",
    "        line = line.strip()\n",
    "        line = line.split(' ')\n",
    "        category = line[0]\n",
    "        cat_list.append(category)\n",
    "        \n",
    "    return cat_list\n",
    "\n",
    "#Function to convert categories (key) & pages in each category (value) into a dictionary\n",
    "def lines_to_dict(dictionary, lines):\n",
    "    for line in lines:\n",
    "        line = line.strip()\n",
    "        line = line.split(' ')\n",
    "        key = line[0]\n",
    "        values = line[1:]\n",
    "        int_values = [eval(i) for i in values]\n",
    "        dictionary[key] = int_values\n",
    "        \n",
    "    return dictionary\n",
    "\n",
    "def make_catlist_catdict(topcats_categories):\n",
    "    category_lines = topcats_categories.readlines()\n",
    "    cat_list = []\n",
    "    cat_list = all_categories(cat_list, category_lines)\n",
    "\n",
    "    cat_dict = {}\n",
    "    cat_dict = lines_to_dict(cat_dict, category_lines)\n",
    "    \n",
    "    return cat_list, cat_dict\n",
    "\n",
    "#Only necessary if you want to see the page names/articles\n",
    "def get_pages(topcats_page_names):\n",
    "    page_lines = topcats_page_names.readlines()\n",
    "\n",
    "    pages = {}\n",
    "\n",
    "    for line in page_lines:\n",
    "        line = line.strip()\n",
    "        line = line.split(' ')\n",
    "        key = int(line[0])\n",
    "        values = line[1:]\n",
    "        str_values = ' '.join(values)\n",
    "        pages[key] = str_values\n",
    "        \n",
    "    return pages\n",
    "\n",
    "def make_digraph(data):\n",
    "    DG = nx.DiGraph()\n",
    "    DG.add_edges_from(data)\n",
    "    \n",
    "    return DG\n",
    "\n",
    "#Returns two random categories\n",
    "def get_rand_cats(cat_list):\n",
    "    cat_inds = []\n",
    "    start = 0\n",
    "    end = len(cat_list)\n",
    "\n",
    "    for i in range(2):\n",
    "        num = random.randint(start, end)\n",
    "        cat_inds.append(num)\n",
    "    \n",
    "    #print(cat_inds)    \n",
    "    return cat_inds\n",
    "\n",
    "def get_rand_cat_list(num_cats, cat_list):\n",
    "    cat_inds = []\n",
    "    start = 0\n",
    "    end = len(cat_list)\n",
    "\n",
    "    for i in range(num_cats):\n",
    "        num = random.randint(start, end)\n",
    "        cat_inds.append(num)\n",
    "    \n",
    "    #print(cat_inds)    \n",
    "    return cat_inds\n",
    "\n",
    "#Returns Array of Page Numbers from Category Dictionary \n",
    "def get_cat_pages(category, cat_dict):\n",
    "    return cat_dict.get(category)\n",
    "\n",
    "def checks(data, cat_list, DG):\n",
    "    if len(data) == 28511807:\n",
    "        print('Data Transferred Correctly\\n')\n",
    "    else:\n",
    "        print('Data Transferred Incorrectly\\n')\n",
    "        return False\n",
    "    \n",
    "    if len(cat_list) == 17364:\n",
    "        print('Category List Transferred Correctly\\n')\n",
    "    else:\n",
    "        print('Category List Transferred Incorrectly\\n')\n",
    "        return False\n",
    "    \n",
    "    if DG.number_of_nodes() == 1791489:\n",
    "        print('DiGraph Made Correctly\\n')\n",
    "    else:\n",
    "        print('DiGraph Made Incorrectly\\n')\n",
    "        return False\n",
    "    \n",
    "    print('All Check Passed')\n",
    "    return True\n",
    "\n",
    "#Path Functions\n",
    "\n",
    "#Returns length of the shortest path between Node 1 and Node 2\n",
    "def shortest_path_nodes(DG, node1, node2):\n",
    "    path = nx.shortest_path(DG, node1, node2)\n",
    "    return len(path)\n",
    "\n",
    "#Returns Average Shortest Path Length of One Page from the First Category to Every Page From Another Category\n",
    "def avg_shortest_path_nodes(DG, cat1_page, cat2, cat_list, cat_dict):\n",
    "    paths = []\n",
    "    pages_in_cat2 = cat_dict.get(cat_list[cat2])\n",
    "    \n",
    "    for cat2_page in pages_in_cat2:\n",
    "        path = shortest_path_nodes(DG, cat1_page, cat2_page)\n",
    "        paths.append(path)\n",
    "    \n",
    "    np_paths = np.array(paths)\n",
    "    avg_path_length = np.average(np_paths)\n",
    "    \n",
    "    return avg_path_length\n",
    "\n",
    "#Returns the Average Shortest Path Length Between Two Categories\n",
    "def avg_shortest_path_cats(DG, cat1, cat2, cat_list, cat_dict):\n",
    "    avg_paths = []\n",
    "    pages_in_cat1 = cat_dict.get(cat_list[cat1])\n",
    "    \n",
    "    for cat1_page in pages_in_cat1:\n",
    "        avg_path = avg_shortest_path_nodes(DG, cat1_page, cat2, cat_list, cat_dict)\n",
    "        avg_paths.append(avg_path)\n",
    "    \n",
    "    np_avg_paths = np.array(avg_paths)\n",
    "    avg_path_cats = np.average(np_avg_paths)\n",
    "    \n",
    "    return avg_path_cats\n",
    "\n",
    "#Correlation Functions\n",
    "\n",
    "def find_correlations(DG, cat1, sub_cat_list, cat_list, cat_dict):\n",
    "    correlations = {}\n",
    "    \n",
    "    for cat2 in sub_cat_list:\n",
    "        #Does no compare against itself\n",
    "        if cat1 == cat2:\n",
    "            continue\n",
    "        \n",
    "        #key_str = 'Category 1: ' + cat_list[cat1] + '-> Category 2: ' + cat_list[cat2]\n",
    "        key_str = cat_list[cat1] + ' -> ' + cat_list[cat2]\n",
    "        \n",
    "        #Dictionary\n",
    "        #every key is the input category, and then the category it is being compared to\n",
    "        #the values is the avgerage shortest path between the two categories\n",
    "        key = key_str\n",
    "        values = avg_shortest_path_cats(DG, cat1, cat2, cat_list, cat_dict)\n",
    "        correlations[key] = values\n",
    "    \n",
    "    return correlations\n",
    "\n",
    "def cat_correlations(DG, sub_cat_list, cat_list, cat_dict):\n",
    "    #array of dictionaries\n",
    "    correlations = []\n",
    "    \n",
    "    for cat in sub_cat_list:\n",
    "        correlations.append(find_correlations(DG, cat, sub_cat_list, cat_list, cat_dict))   \n",
    "    \n",
    "    return correlations\n",
    "\n",
    "#Min Correlation = Largset Number, meaning largest average shortest path between two categories\n",
    "#Max Correlation = Smallest Number, meaning smallest avergae shortest path between two categories\n",
    "\n",
    "def min_max_correlation(correlations, sub_cat_list, cat_list):\n",
    "    i = 0\n",
    "    \n",
    "    #Loops through array of dictionaries\n",
    "    for correlation in correlations:\n",
    "        #Initial Values\n",
    "        #anything larger than 0 will replcae this number\n",
    "        min_corr = 0 \n",
    "        #anything smaller than 10 will replace this number, 10 chosen because the longest shortest path in the whole\n",
    "        #dataset is 9\n",
    "        max_corr = 10\n",
    "        \n",
    "        #Loops through dictionary to find min and max correlations\n",
    "        for key in correlation:\n",
    "            corr = correlation.get(key)\n",
    "            if corr > min_corr:\n",
    "                min_key = key\n",
    "                min_corr = correlation.get(key)\n",
    "\n",
    "            elif corr < max_corr:\n",
    "                max_key = key\n",
    "                max_corr = correlation.get(key)\n",
    "            \n",
    "        print(cat_list[sub_cat_list[i]])\n",
    "        print(f'Minimum Correlation: {min_key}\\nAverage Shortest Path Between Categories: {min_corr}')\n",
    "        print(f'Maximum Correlatoin: {max_key}\\nAverage Shortest Path Between Categories: {max_corr}\\n')\n",
    "        \n",
    "        i += 1\n",
    "        \n",
    "def generate_sublist(subset_num, cat_list):\n",
    "    sub_cat_list = get_rand_cat_list(subset_num, cat_list)\n",
    "    for cat in sub_cat_list:\n",
    "        print(cat, cat_list[cat])\n",
    "        \n",
    "    return sub_cat_list\n",
    "\n",
    "#Examples\n",
    "\n",
    "def print_path(DG, cat1, cat2, node1, node2, page_titles):\n",
    "    path = nx.shortest_path(DG, node1, node2)\n",
    "    path_str = ''\n",
    "    step = 1\n",
    "    print(f'\\nStarting {cat1}')\n",
    "    for i in path:\n",
    "        page = page_titles.get(i)\n",
    "        path_str = path_str + page + ' -> '\n",
    "        print(f'Step: {step} - Page Title: {page}')\n",
    "        step += 1\n",
    "    print(f'Ending {cat2}')\n",
    "    print(f'\\nPath: {path_str[:-4]}')\n",
    "    print(f'Path As Nodes: {path}')\n",
    "    print(f'Length of Shortest Path: {len(path)}')\n",
    "\n",
    "#Provides Base Examples of What this Project is About For Explanation Purposes\n",
    "def example(DG, cat_list, cat_dict, page_titles):\n",
    "    ex_cats = get_rand_cats(cat_list)\n",
    "    ex_cat1 = cat_list[ex_cats[0]]\n",
    "    ex_cat2 = cat_list[ex_cats[1]]\n",
    "    print(f'Example Categories:\\n{ex_cat1}\\n{ex_cat2}')\n",
    "    \n",
    "    ex_cat1_pages = cat_dict.get(ex_cat1)\n",
    "    ex_cat2_pages = cat_dict.get(ex_cat2)\n",
    "    print(f'\\nExample Category Pages:\\n\\n{ex_cat1}\\nPages: {ex_cat1_pages}\\n\\n{ex_cat2}\\nPages: {ex_cat2_pages}')\n",
    "    \n",
    "    ex_cat1_node = ex_cat1_pages[0]\n",
    "    ex_cat1_node_page_title = page_titles.get(ex_cat1_node)\n",
    "    ex_cat2_node = ex_cat2_pages[0]\n",
    "    ex_cat2_node_page_title = page_titles.get(ex_cat2_node)\n",
    "    print(f'\\nExample Page/Article Titles:\\n\\n{ex_cat1}\\nPage Node: {ex_cat1_node}\\nPage Title: {ex_cat1_node_page_title}\\n\\n{ex_cat2}\\nPage Node: {ex_cat2_node}\\nPage Title: {ex_cat2_node_page_title}')\n",
    "    \n",
    "    print('\\nExample Shortest Path:')\n",
    "    print_path(DG, ex_cat1, ex_cat2, ex_cat1_node, ex_cat2_node, page_titles)\n",
    "    ex_cat2_node2 = ex_cat2_pages[1]\n",
    "    print_path(DG, ex_cat1, ex_cat2, ex_cat1_node, ex_cat2_node2, page_titles)\n",
    "    \n",
    "    print(f'\\nExample Category List:')\n",
    "    sublist_len5 = generate_sublist(5, cat_list)\n",
    "    \n",
    "def insertion_sort(cat_list, cat_dict):\n",
    "    sorted_cat_list = cat_list\n",
    "    for i in range(1, len(sorted_cat_list)):\n",
    " \n",
    "        #String of category name\n",
    "        key = sorted_cat_list[i]\n",
    "        \n",
    "        #Number of Articles in Category\n",
    "        num_articles = len(cat_dict.get(key))\n",
    "\n",
    "        j = i-1\n",
    "        while j >= 0 and num_articles < len(cat_dict.get(sorted_cat_list[j])) :\n",
    "                sorted_cat_list[j + 1] = sorted_cat_list[j]\n",
    "                j -= 1\n",
    "        sorted_cat_list[j + 1] = key\n",
    "    \n",
    "    return sorted_cat_list\n",
    "\n",
    "#Returns new dictionary of sampled categories\n",
    "# sample_size = number of articles to sample from category\n",
    "# cats_to_sample = list of categories to sample from (will use most_popular_cats array)\n",
    "# temp_cat_list = category list to append with new category titles\n",
    "# cat_dict = categoy dictionary to add new categories and sampled articles\n",
    "# returns nothing\n",
    "#Doing it this way for purpose of using previously made functions, cat_correlations takes \n",
    "#numbers to represent the index of the category in cat_list. Allows for using same logic.\n",
    "\n",
    "def sample_category(sample_size, cats_to_sample, temp_cat_list, cat_dict):\n",
    "    for cat in cats_to_sample:\n",
    "        #String to use as new key in dictionary and category array\n",
    "        sample_cat_name = cat + '-sample'\n",
    "        #Appending category array with new category\n",
    "        temp_cat_list.append(sample_cat_name)\n",
    "        \n",
    "        #Empty array for appending randomly selected articles\n",
    "        sampled_articles = []\n",
    "        \n",
    "        #Gets the value/array of articles from dictionary\n",
    "        articles_in_cat = cat_dict.get(cat)\n",
    "        \n",
    "        #Start and Ending indexes that is randomly selected from article array\n",
    "        start_ind = 0\n",
    "        end_ind = len(articles_in_cat)-1\n",
    "        \n",
    "        #Loops for number of samples required\n",
    "        for i in range(sample_size):\n",
    "            #Loops until article not previously sampled is chosen, prevents potential repeats in the sample \n",
    "            while True:\n",
    "                #random index\n",
    "                rand_ind = random.randint(start_ind, end_ind)\n",
    "\n",
    "                #gets value/article at random index\n",
    "                article = articles_in_cat[rand_ind]\n",
    "                \n",
    "                if article not in sampled_articles:\n",
    "                    sampled_articles.append(article)\n",
    "                    break\n",
    "            \n",
    "        #Put Sampled Articles into Dictionary\n",
    "        cat_dict[sample_cat_name] = sampled_articles"
   ]
  },
  {
   "cell_type": "code",
   "execution_count": 3,
   "metadata": {},
   "outputs": [
    {
     "name": "stdout",
     "output_type": "stream",
     "text": [
      "Data Transferred Correctly\n",
      "\n",
      "Category List Transferred Correctly\n",
      "\n",
      "DiGraph Made Correctly\n",
      "\n",
      "All Check Passed\n"
     ]
    },
    {
     "data": {
      "text/plain": [
       "True"
      ]
     },
     "execution_count": 3,
     "metadata": {},
     "output_type": "execute_result"
    }
   ],
   "source": [
    "#Start Up - will take a few minutes\n",
    "\n",
    "#Imports\n",
    "import pandas as pd\n",
    "import numpy as np\n",
    "import networkx as nx\n",
    "import random\n",
    "\n",
    "#Files\n",
    "topcats, topcats_page_names, topcats_categories = get_files()\n",
    "#Page Titles\n",
    "page_titles = get_pages(topcats_page_names) \n",
    "#Data/Edge List\n",
    "data = load_data(topcats)\n",
    "#Category Name List & Category Page Dictionary\n",
    "cat_list, cat_dict = make_catlist_catdict(topcats_categories)\n",
    "#Make Graph\n",
    "DG = make_digraph(data)\n",
    "#Checks\n",
    "checks(data, cat_list, DG)"
   ]
  },
  {
   "cell_type": "code",
   "execution_count": 6,
   "metadata": {},
   "outputs": [],
   "source": [
    "temp_cat_list = cat_list.copy()\n",
    "sorted_cat_list = insertion_sort(temp_cat_list, cat_dict)"
   ]
  },
  {
   "cell_type": "code",
   "execution_count": 7,
   "metadata": {},
   "outputs": [
    {
     "data": {
      "text/plain": [
       "['Category:American_film_actors;',\n",
       " 'Category:American_films;',\n",
       " 'Category:English-language_films;',\n",
       " 'Category:Year_of_birth_missing_(living_people);',\n",
       " 'Category:Living_people;']"
      ]
     },
     "execution_count": 7,
     "metadata": {},
     "output_type": "execute_result"
    }
   ],
   "source": [
    "most_popular_cats = sorted_cat_list[-5:]\n",
    "most_popular_cats"
   ]
  },
  {
   "cell_type": "code",
   "execution_count": 8,
   "metadata": {},
   "outputs": [
    {
     "name": "stdout",
     "output_type": "stream",
     "text": [
      "Category:American_film_actors; 13938\n",
      "Category:American_films; 15302\n",
      "Category:English-language_films; 22699\n",
      "Category:Year_of_birth_missing_(living_people); 34721\n",
      "Category:Living_people; 418223\n"
     ]
    }
   ],
   "source": [
    "for i in most_popular_cats:\n",
    "    print(i, len(cat_dict.get(i)))"
   ]
  },
  {
   "cell_type": "code",
   "execution_count": 45,
   "metadata": {
    "scrolled": true
   },
   "outputs": [
    {
     "name": "stdout",
     "output_type": "stream",
     "text": [
      "8074 Category:Investment_banks;\n",
      "10333 Category:Actors_from_Paris;\n",
      "5930 Category:American_heavy_metal_singers;\n",
      "14823 Category:Business_law;\n",
      "11479 Category:16th-century_Italian_people;\n",
      "8074 135\n",
      "10333 251\n",
      "5930 275\n",
      "14823 128\n",
      "11479 260\n"
     ]
    }
   ],
   "source": [
    "sublist_len5 = generate_sublist(5, cat_list)\n",
    "for i in sublist_len5:\n",
    "    print(i, len(cat_dict.get(cat_list[i])))"
   ]
  },
  {
   "cell_type": "code",
   "execution_count": 46,
   "metadata": {
    "scrolled": true
   },
   "outputs": [],
   "source": [
    "most_popular_cats_and_random_cats = most_popular_cats.copy()\n",
    "# most_popular_cats_and_random_cats.append(cat_list[11306])\n",
    "# most_popular_cats_and_random_cats.append(cat_list[16059])\n",
    "# most_popular_cats_and_random_cats.append(cat_list[618])\n",
    "# most_popular_cats_and_random_cats.append(cat_list[16312])\n",
    "# most_popular_cats_and_random_cats.append(cat_list[12291])\n",
    "most_popular_cats_and_random_cats.append(cat_list[8074])\n",
    "most_popular_cats_and_random_cats.append(cat_list[10333])\n",
    "most_popular_cats_and_random_cats.append(cat_list[5930])\n",
    "most_popular_cats_and_random_cats.append(cat_list[14823])\n",
    "most_popular_cats_and_random_cats.append(cat_list[11479])"
   ]
  },
  {
   "cell_type": "code",
   "execution_count": 80,
   "metadata": {},
   "outputs": [],
   "source": [
    "temp_cat_dict = {}\n",
    "temp_arr = []\n",
    "sample_size = 100"
   ]
  },
  {
   "cell_type": "code",
   "execution_count": 18,
   "metadata": {},
   "outputs": [],
   "source": [
    "for i in most_popular_cats:\n",
    "    temp_arr.append(i)\n",
    "    values = cat_dict.get(i)\n",
    "    temp_cat_dict[i] = values"
   ]
  },
  {
   "cell_type": "code",
   "execution_count": 81,
   "metadata": {},
   "outputs": [],
   "source": [
    "for i in most_popular_cats_and_random_cats:\n",
    "    temp_arr.append(i)\n",
    "    values = cat_dict.get(i)\n",
    "    temp_cat_dict[i] = values"
   ]
  },
  {
   "cell_type": "code",
   "execution_count": 82,
   "metadata": {
    "scrolled": true
   },
   "outputs": [
    {
     "data": {
      "text/plain": [
       "['Category:American_film_actors;',\n",
       " 'Category:American_films;',\n",
       " 'Category:English-language_films;',\n",
       " 'Category:Year_of_birth_missing_(living_people);',\n",
       " 'Category:Living_people;',\n",
       " 'Category:Investment_banks;',\n",
       " 'Category:Actors_from_Paris;',\n",
       " 'Category:American_heavy_metal_singers;',\n",
       " 'Category:Business_law;',\n",
       " 'Category:16th-century_Italian_people;']"
      ]
     },
     "execution_count": 82,
     "metadata": {},
     "output_type": "execute_result"
    }
   ],
   "source": [
    "temp_arr"
   ]
  },
  {
   "cell_type": "code",
   "execution_count": 20,
   "metadata": {
    "scrolled": false
   },
   "outputs": [
    {
     "name": "stdout",
     "output_type": "stream",
     "text": [
      "Category:American_film_actors; 13938\n",
      "Category:American_films; 15302\n",
      "Category:English-language_films; 22699\n",
      "Category:Year_of_birth_missing_(living_people); 34721\n",
      "Category:Living_people; 418223\n"
     ]
    }
   ],
   "source": [
    "for i in most_popular_cats:\n",
    "    print(i, len(temp_cat_dict.get(i)))"
   ]
  },
  {
   "cell_type": "code",
   "execution_count": 83,
   "metadata": {},
   "outputs": [
    {
     "name": "stdout",
     "output_type": "stream",
     "text": [
      "Category:American_film_actors; 13938\n",
      "Category:American_films; 15302\n",
      "Category:English-language_films; 22699\n",
      "Category:Year_of_birth_missing_(living_people); 34721\n",
      "Category:Living_people; 418223\n",
      "Category:Investment_banks; 135\n",
      "Category:Actors_from_Paris; 251\n",
      "Category:American_heavy_metal_singers; 275\n",
      "Category:Business_law; 128\n",
      "Category:16th-century_Italian_people; 260\n",
      "10\n"
     ]
    }
   ],
   "source": [
    "for i in most_popular_cats_and_random_cats:\n",
    "    print(i, len(temp_cat_dict.get(i)))\n",
    "print(len(temp_arr))"
   ]
  },
  {
   "cell_type": "code",
   "execution_count": 53,
   "metadata": {},
   "outputs": [],
   "source": [
    "#sample_category(sample_size, most_popular_cats, temp_arr, temp_cat_dict)"
   ]
  },
  {
   "cell_type": "code",
   "execution_count": 84,
   "metadata": {},
   "outputs": [],
   "source": [
    "sample_category(sample_size, most_popular_cats_and_random_cats, temp_arr, temp_cat_dict)"
   ]
  },
  {
   "cell_type": "code",
   "execution_count": 85,
   "metadata": {},
   "outputs": [
    {
     "data": {
      "text/plain": [
       "['Category:American_film_actors;',\n",
       " 'Category:American_films;',\n",
       " 'Category:English-language_films;',\n",
       " 'Category:Year_of_birth_missing_(living_people);',\n",
       " 'Category:Living_people;',\n",
       " 'Category:Investment_banks;',\n",
       " 'Category:Actors_from_Paris;',\n",
       " 'Category:American_heavy_metal_singers;',\n",
       " 'Category:Business_law;',\n",
       " 'Category:16th-century_Italian_people;',\n",
       " 'Category:American_film_actors;-sample',\n",
       " 'Category:American_films;-sample',\n",
       " 'Category:English-language_films;-sample',\n",
       " 'Category:Year_of_birth_missing_(living_people);-sample',\n",
       " 'Category:Living_people;-sample',\n",
       " 'Category:Investment_banks;-sample',\n",
       " 'Category:Actors_from_Paris;-sample',\n",
       " 'Category:American_heavy_metal_singers;-sample',\n",
       " 'Category:Business_law;-sample',\n",
       " 'Category:16th-century_Italian_people;-sample']"
      ]
     },
     "execution_count": 85,
     "metadata": {},
     "output_type": "execute_result"
    }
   ],
   "source": [
    "temp_arr"
   ]
  },
  {
   "cell_type": "code",
   "execution_count": 86,
   "metadata": {},
   "outputs": [
    {
     "data": {
      "text/plain": [
       "20"
      ]
     },
     "execution_count": 86,
     "metadata": {},
     "output_type": "execute_result"
    }
   ],
   "source": [
    "len(temp_arr)"
   ]
  },
  {
   "cell_type": "code",
   "execution_count": 16,
   "metadata": {
    "scrolled": true
   },
   "outputs": [
    {
     "data": {
      "text/plain": [
       "100"
      ]
     },
     "execution_count": 16,
     "metadata": {},
     "output_type": "execute_result"
    }
   ],
   "source": [
    "len(temp_cat_dict.get(temp_arr[5]))"
   ]
  },
  {
   "cell_type": "code",
   "execution_count": 57,
   "metadata": {},
   "outputs": [
    {
     "data": {
      "text/plain": [
       "[5, 6, 7, 8, 9]"
      ]
     },
     "execution_count": 57,
     "metadata": {},
     "output_type": "execute_result"
    }
   ],
   "source": [
    "sub_cat_list = [5, 6, 7, 8, 9]\n",
    "sub_cat_list"
   ]
  },
  {
   "cell_type": "code",
   "execution_count": 89,
   "metadata": {},
   "outputs": [
    {
     "data": {
      "text/plain": [
       "[10, 11, 12, 13, 14, 15, 16, 17, 18, 19]"
      ]
     },
     "execution_count": 89,
     "metadata": {},
     "output_type": "execute_result"
    }
   ],
   "source": [
    "sub_cat_list = [10, 11, 12, 13, 14, 15, 16, 17, 18, 19]\n",
    "sub_cat_list"
   ]
  },
  {
   "cell_type": "code",
   "execution_count": 58,
   "metadata": {},
   "outputs": [
    {
     "data": {
      "text/plain": [
       "[{'Category:American_film_actors;-sample -> Category:American_films;-sample': 5.0309,\n",
       "  'Category:American_film_actors;-sample -> Category:English-language_films;-sample': 4.8461,\n",
       "  'Category:American_film_actors;-sample -> Category:Year_of_birth_missing_(living_people);-sample': 5.7573,\n",
       "  'Category:American_film_actors;-sample -> Category:Living_people;-sample': 5.880499999999999},\n",
       " {'Category:American_films;-sample -> Category:American_film_actors;-sample': 4.979,\n",
       "  'Category:American_films;-sample -> Category:English-language_films;-sample': 4.9096,\n",
       "  'Category:American_films;-sample -> Category:Year_of_birth_missing_(living_people);-sample': 5.949599999999999,\n",
       "  'Category:American_films;-sample -> Category:Living_people;-sample': 6.077799999999999},\n",
       " {'Category:English-language_films;-sample -> Category:American_film_actors;-sample': 4.9158,\n",
       "  'Category:English-language_films;-sample -> Category:American_films;-sample': 5.047000000000001,\n",
       "  'Category:English-language_films;-sample -> Category:Year_of_birth_missing_(living_people);-sample': 5.854499999999998,\n",
       "  'Category:English-language_films;-sample -> Category:Living_people;-sample': 5.988},\n",
       " {'Category:Year_of_birth_missing_(living_people);-sample -> Category:American_film_actors;-sample': 5.533699999999999,\n",
       "  'Category:Year_of_birth_missing_(living_people);-sample -> Category:American_films;-sample': 5.7254,\n",
       "  'Category:Year_of_birth_missing_(living_people);-sample -> Category:English-language_films;-sample': 5.5045,\n",
       "  'Category:Year_of_birth_missing_(living_people);-sample -> Category:Living_people;-sample': 6.157299999999999},\n",
       " {'Category:Living_people;-sample -> Category:American_film_actors;-sample': 5.5482,\n",
       "  'Category:Living_people;-sample -> Category:American_films;-sample': 5.739299999999998,\n",
       "  'Category:Living_people;-sample -> Category:English-language_films;-sample': 5.515899999999999,\n",
       "  'Category:Living_people;-sample -> Category:Year_of_birth_missing_(living_people);-sample': 6.0066}]"
      ]
     },
     "execution_count": 58,
     "metadata": {},
     "output_type": "execute_result"
    }
   ],
   "source": [
    "test_sample_correlations = cat_correlations(DG, sub_cat_list, temp_arr, temp_cat_dict)\n",
    "test_sample_correlations"
   ]
  },
  {
   "cell_type": "code",
   "execution_count": 90,
   "metadata": {},
   "outputs": [
    {
     "data": {
      "text/plain": [
       "[{'Category:American_film_actors;-sample -> Category:American_films;-sample': 4.970899999999999,\n",
       "  'Category:American_film_actors;-sample -> Category:English-language_films;-sample': 4.9525,\n",
       "  'Category:American_film_actors;-sample -> Category:Year_of_birth_missing_(living_people);-sample': 5.803299999999999,\n",
       "  'Category:American_film_actors;-sample -> Category:Living_people;-sample': 5.869300000000001,\n",
       "  'Category:American_film_actors;-sample -> Category:Investment_banks;-sample': 5.486400000000001,\n",
       "  'Category:American_film_actors;-sample -> Category:Actors_from_Paris;-sample': 5.0421000000000005,\n",
       "  'Category:American_film_actors;-sample -> Category:American_heavy_metal_singers;-sample': 5.3364,\n",
       "  'Category:American_film_actors;-sample -> Category:Business_law;-sample': 5.1436,\n",
       "  'Category:American_film_actors;-sample -> Category:16th-century_Italian_people;-sample': 5.706200000000001},\n",
       " {'Category:American_films;-sample -> Category:American_film_actors;-sample': 4.895300000000001,\n",
       "  'Category:American_films;-sample -> Category:English-language_films;-sample': 4.9615,\n",
       "  'Category:American_films;-sample -> Category:Year_of_birth_missing_(living_people);-sample': 5.918700000000001,\n",
       "  'Category:American_films;-sample -> Category:Living_people;-sample': 5.9615,\n",
       "  'Category:American_films;-sample -> Category:Investment_banks;-sample': 5.628399999999999,\n",
       "  'Category:American_films;-sample -> Category:Actors_from_Paris;-sample': 5.0261000000000005,\n",
       "  'Category:American_films;-sample -> Category:American_heavy_metal_singers;-sample': 5.461999999999998,\n",
       "  'Category:American_films;-sample -> Category:Business_law;-sample': 5.2674,\n",
       "  'Category:American_films;-sample -> Category:16th-century_Italian_people;-sample': 5.800800000000001},\n",
       " {'Category:English-language_films;-sample -> Category:American_film_actors;-sample': 4.9426,\n",
       "  'Category:English-language_films;-sample -> Category:American_films;-sample': 5.0046,\n",
       "  'Category:English-language_films;-sample -> Category:Year_of_birth_missing_(living_people);-sample': 5.921300000000001,\n",
       "  'Category:English-language_films;-sample -> Category:Living_people;-sample': 5.9620999999999995,\n",
       "  'Category:English-language_films;-sample -> Category:Investment_banks;-sample': 5.585700000000002,\n",
       "  'Category:English-language_films;-sample -> Category:Actors_from_Paris;-sample': 5.0414,\n",
       "  'Category:English-language_films;-sample -> Category:American_heavy_metal_singers;-sample': 5.489000000000001,\n",
       "  'Category:English-language_films;-sample -> Category:Business_law;-sample': 5.2675,\n",
       "  'Category:English-language_films;-sample -> Category:16th-century_Italian_people;-sample': 5.7897},\n",
       " {'Category:Year_of_birth_missing_(living_people);-sample -> Category:American_film_actors;-sample': 5.591,\n",
       "  'Category:Year_of_birth_missing_(living_people);-sample -> Category:American_films;-sample': 5.6919,\n",
       "  'Category:Year_of_birth_missing_(living_people);-sample -> Category:English-language_films;-sample': 5.622499999999999,\n",
       "  'Category:Year_of_birth_missing_(living_people);-sample -> Category:Living_people;-sample': 6.202000000000001,\n",
       "  'Category:Year_of_birth_missing_(living_people);-sample -> Category:Investment_banks;-sample': 5.709499999999999,\n",
       "  'Category:Year_of_birth_missing_(living_people);-sample -> Category:Actors_from_Paris;-sample': 5.6123,\n",
       "  'Category:Year_of_birth_missing_(living_people);-sample -> Category:American_heavy_metal_singers;-sample': 5.738200000000001,\n",
       "  'Category:Year_of_birth_missing_(living_people);-sample -> Category:Business_law;-sample': 5.368200000000001,\n",
       "  'Category:Year_of_birth_missing_(living_people);-sample -> Category:16th-century_Italian_people;-sample': 5.9362},\n",
       " {'Category:Living_people;-sample -> Category:American_film_actors;-sample': 5.5685,\n",
       "  'Category:Living_people;-sample -> Category:American_films;-sample': 5.6668,\n",
       "  'Category:Living_people;-sample -> Category:English-language_films;-sample': 5.600300000000001,\n",
       "  'Category:Living_people;-sample -> Category:Year_of_birth_missing_(living_people);-sample': 6.134600000000001,\n",
       "  'Category:Living_people;-sample -> Category:Investment_banks;-sample': 5.6903,\n",
       "  'Category:Living_people;-sample -> Category:Actors_from_Paris;-sample': 5.5565,\n",
       "  'Category:Living_people;-sample -> Category:American_heavy_metal_singers;-sample': 5.7128,\n",
       "  'Category:Living_people;-sample -> Category:Business_law;-sample': 5.342900000000001,\n",
       "  'Category:Living_people;-sample -> Category:16th-century_Italian_people;-sample': 5.8064},\n",
       " {'Category:Investment_banks;-sample -> Category:American_film_actors;-sample': 5.5602,\n",
       "  'Category:Investment_banks;-sample -> Category:American_films;-sample': 5.635600000000002,\n",
       "  'Category:Investment_banks;-sample -> Category:English-language_films;-sample': 5.603900000000001,\n",
       "  'Category:Investment_banks;-sample -> Category:Year_of_birth_missing_(living_people);-sample': 6.062500000000001,\n",
       "  'Category:Investment_banks;-sample -> Category:Living_people;-sample': 6.067000000000002,\n",
       "  'Category:Investment_banks;-sample -> Category:Actors_from_Paris;-sample': 5.534899999999999,\n",
       "  'Category:Investment_banks;-sample -> Category:American_heavy_metal_singers;-sample': 5.713300000000001,\n",
       "  'Category:Investment_banks;-sample -> Category:Business_law;-sample': 4.9895,\n",
       "  'Category:Investment_banks;-sample -> Category:16th-century_Italian_people;-sample': 5.8058},\n",
       " {'Category:Actors_from_Paris;-sample -> Category:American_film_actors;-sample': 5.0519,\n",
       "  'Category:Actors_from_Paris;-sample -> Category:American_films;-sample': 5.1316999999999995,\n",
       "  'Category:Actors_from_Paris;-sample -> Category:English-language_films;-sample': 5.0743,\n",
       "  'Category:Actors_from_Paris;-sample -> Category:Year_of_birth_missing_(living_people);-sample': 5.955199999999999,\n",
       "  'Category:Actors_from_Paris;-sample -> Category:Living_people;-sample': 5.958399999999999,\n",
       "  'Category:Actors_from_Paris;-sample -> Category:Investment_banks;-sample': 5.340400000000001,\n",
       "  'Category:Actors_from_Paris;-sample -> Category:American_heavy_metal_singers;-sample': 5.5241,\n",
       "  'Category:Actors_from_Paris;-sample -> Category:Business_law;-sample': 5.1612,\n",
       "  'Category:Actors_from_Paris;-sample -> Category:16th-century_Italian_people;-sample': 5.560999999999998},\n",
       " {'Category:American_heavy_metal_singers;-sample -> Category:American_film_actors;-sample': 5.2574000000000005,\n",
       "  'Category:American_heavy_metal_singers;-sample -> Category:American_films;-sample': 5.3745,\n",
       "  'Category:American_heavy_metal_singers;-sample -> Category:English-language_films;-sample': 5.325899999999999,\n",
       "  'Category:American_heavy_metal_singers;-sample -> Category:Year_of_birth_missing_(living_people);-sample': 5.896800000000001,\n",
       "  'Category:American_heavy_metal_singers;-sample -> Category:Living_people;-sample': 5.949899999999999,\n",
       "  'Category:American_heavy_metal_singers;-sample -> Category:Investment_banks;-sample': 5.5493999999999994,\n",
       "  'Category:American_heavy_metal_singers;-sample -> Category:Actors_from_Paris;-sample': 5.389399999999999,\n",
       "  'Category:American_heavy_metal_singers;-sample -> Category:Business_law;-sample': 5.2126,\n",
       "  'Category:American_heavy_metal_singers;-sample -> Category:16th-century_Italian_people;-sample': 5.7971},\n",
       " {'Category:Business_law;-sample -> Category:American_film_actors;-sample': 5.7711999999999986,\n",
       "  'Category:Business_law;-sample -> Category:American_films;-sample': 5.829300000000001,\n",
       "  'Category:Business_law;-sample -> Category:English-language_films;-sample': 5.772399999999999,\n",
       "  'Category:Business_law;-sample -> Category:Year_of_birth_missing_(living_people);-sample': 6.2307999999999995,\n",
       "  'Category:Business_law;-sample -> Category:Living_people;-sample': 6.228400000000001,\n",
       "  'Category:Business_law;-sample -> Category:Investment_banks;-sample': 5.589799999999999,\n",
       "  'Category:Business_law;-sample -> Category:Actors_from_Paris;-sample': 5.725299999999999,\n",
       "  'Category:Business_law;-sample -> Category:American_heavy_metal_singers;-sample': 5.9308000000000005,\n",
       "  'Category:Business_law;-sample -> Category:16th-century_Italian_people;-sample': 5.8565},\n",
       " {'Category:16th-century_Italian_people;-sample -> Category:American_film_actors;-sample': 5.668000000000001,\n",
       "  'Category:16th-century_Italian_people;-sample -> Category:American_films;-sample': 5.7352,\n",
       "  'Category:16th-century_Italian_people;-sample -> Category:English-language_films;-sample': 5.661300000000001,\n",
       "  'Category:16th-century_Italian_people;-sample -> Category:Year_of_birth_missing_(living_people);-sample': 6.2421000000000015,\n",
       "  'Category:16th-century_Italian_people;-sample -> Category:Living_people;-sample': 6.1497,\n",
       "  'Category:16th-century_Italian_people;-sample -> Category:Investment_banks;-sample': 5.743699999999999,\n",
       "  'Category:16th-century_Italian_people;-sample -> Category:Actors_from_Paris;-sample': 5.4084,\n",
       "  'Category:16th-century_Italian_people;-sample -> Category:American_heavy_metal_singers;-sample': 5.878599999999999,\n",
       "  'Category:16th-century_Italian_people;-sample -> Category:Business_law;-sample': 5.349199999999999}]"
      ]
     },
     "execution_count": 90,
     "metadata": {},
     "output_type": "execute_result"
    }
   ],
   "source": [
    "test_sample_correlations = cat_correlations(DG, sub_cat_list, temp_arr, temp_cat_dict)\n",
    "test_sample_correlations"
   ]
  },
  {
   "cell_type": "code",
   "execution_count": 61,
   "metadata": {},
   "outputs": [
    {
     "name": "stdout",
     "output_type": "stream",
     "text": [
      "Category:American_film_actors;-sample\n",
      "Minimum Correlation: Category:American_film_actors;-sample -> Category:Living_people;-sample\n",
      "Average Shortest Path Between Categories: 5.880499999999999\n",
      "Maximum Correlatoin: Category:American_film_actors;-sample -> Category:English-language_films;-sample\n",
      "Average Shortest Path Between Categories: 4.8461\n",
      "\n",
      "Category:American_films;-sample\n",
      "Minimum Correlation: Category:American_films;-sample -> Category:Living_people;-sample\n",
      "Average Shortest Path Between Categories: 6.077799999999999\n",
      "Maximum Correlatoin: Category:American_films;-sample -> Category:English-language_films;-sample\n",
      "Average Shortest Path Between Categories: 4.9096\n",
      "\n",
      "Category:English-language_films;-sample\n",
      "Minimum Correlation: Category:English-language_films;-sample -> Category:Living_people;-sample\n",
      "Average Shortest Path Between Categories: 5.988\n",
      "Maximum Correlatoin: Category:American_films;-sample -> Category:English-language_films;-sample\n",
      "Average Shortest Path Between Categories: 10\n",
      "\n",
      "Category:Year_of_birth_missing_(living_people);-sample\n",
      "Minimum Correlation: Category:Year_of_birth_missing_(living_people);-sample -> Category:Living_people;-sample\n",
      "Average Shortest Path Between Categories: 6.157299999999999\n",
      "Maximum Correlatoin: Category:Year_of_birth_missing_(living_people);-sample -> Category:English-language_films;-sample\n",
      "Average Shortest Path Between Categories: 5.5045\n",
      "\n",
      "Category:Living_people;-sample\n",
      "Minimum Correlation: Category:Living_people;-sample -> Category:Year_of_birth_missing_(living_people);-sample\n",
      "Average Shortest Path Between Categories: 6.0066\n",
      "Maximum Correlatoin: Category:Living_people;-sample -> Category:English-language_films;-sample\n",
      "Average Shortest Path Between Categories: 5.515899999999999\n",
      "\n"
     ]
    }
   ],
   "source": [
    "min_max_correlation(test_sample_correlations, sub_cat_list, temp_arr)"
   ]
  },
  {
   "cell_type": "code",
   "execution_count": 91,
   "metadata": {},
   "outputs": [
    {
     "name": "stdout",
     "output_type": "stream",
     "text": [
      "Category:American_film_actors;-sample\n",
      "Minimum Correlation: Category:American_film_actors;-sample -> Category:Living_people;-sample\n",
      "Average Shortest Path Between Categories: 5.869300000000001\n",
      "Maximum Correlatoin: Category:American_film_actors;-sample -> Category:English-language_films;-sample\n",
      "Average Shortest Path Between Categories: 4.9525\n",
      "\n",
      "Category:American_films;-sample\n",
      "Minimum Correlation: Category:American_films;-sample -> Category:Living_people;-sample\n",
      "Average Shortest Path Between Categories: 5.9615\n",
      "Maximum Correlatoin: Category:American_films;-sample -> Category:Actors_from_Paris;-sample\n",
      "Average Shortest Path Between Categories: 5.0261000000000005\n",
      "\n",
      "Category:English-language_films;-sample\n",
      "Minimum Correlation: Category:English-language_films;-sample -> Category:Living_people;-sample\n",
      "Average Shortest Path Between Categories: 5.9620999999999995\n",
      "Maximum Correlatoin: Category:English-language_films;-sample -> Category:Actors_from_Paris;-sample\n",
      "Average Shortest Path Between Categories: 5.0414\n",
      "\n",
      "Category:Year_of_birth_missing_(living_people);-sample\n",
      "Minimum Correlation: Category:Year_of_birth_missing_(living_people);-sample -> Category:Living_people;-sample\n",
      "Average Shortest Path Between Categories: 6.202000000000001\n",
      "Maximum Correlatoin: Category:Year_of_birth_missing_(living_people);-sample -> Category:Business_law;-sample\n",
      "Average Shortest Path Between Categories: 5.368200000000001\n",
      "\n",
      "Category:Living_people;-sample\n",
      "Minimum Correlation: Category:Living_people;-sample -> Category:Year_of_birth_missing_(living_people);-sample\n",
      "Average Shortest Path Between Categories: 6.134600000000001\n",
      "Maximum Correlatoin: Category:Living_people;-sample -> Category:Business_law;-sample\n",
      "Average Shortest Path Between Categories: 5.342900000000001\n",
      "\n",
      "Category:Investment_banks;-sample\n",
      "Minimum Correlation: Category:Investment_banks;-sample -> Category:Living_people;-sample\n",
      "Average Shortest Path Between Categories: 6.067000000000002\n",
      "Maximum Correlatoin: Category:Investment_banks;-sample -> Category:Business_law;-sample\n",
      "Average Shortest Path Between Categories: 4.9895\n",
      "\n",
      "Category:Actors_from_Paris;-sample\n",
      "Minimum Correlation: Category:Actors_from_Paris;-sample -> Category:Living_people;-sample\n",
      "Average Shortest Path Between Categories: 5.958399999999999\n",
      "Maximum Correlatoin: Category:Actors_from_Paris;-sample -> Category:English-language_films;-sample\n",
      "Average Shortest Path Between Categories: 5.0743\n",
      "\n",
      "Category:American_heavy_metal_singers;-sample\n",
      "Minimum Correlation: Category:American_heavy_metal_singers;-sample -> Category:Living_people;-sample\n",
      "Average Shortest Path Between Categories: 5.949899999999999\n",
      "Maximum Correlatoin: Category:American_heavy_metal_singers;-sample -> Category:Business_law;-sample\n",
      "Average Shortest Path Between Categories: 5.2126\n",
      "\n",
      "Category:Business_law;-sample\n",
      "Minimum Correlation: Category:Business_law;-sample -> Category:Year_of_birth_missing_(living_people);-sample\n",
      "Average Shortest Path Between Categories: 6.2307999999999995\n",
      "Maximum Correlatoin: Category:Business_law;-sample -> Category:Investment_banks;-sample\n",
      "Average Shortest Path Between Categories: 5.589799999999999\n",
      "\n",
      "Category:16th-century_Italian_people;-sample\n",
      "Minimum Correlation: Category:16th-century_Italian_people;-sample -> Category:Year_of_birth_missing_(living_people);-sample\n",
      "Average Shortest Path Between Categories: 6.2421000000000015\n",
      "Maximum Correlatoin: Category:16th-century_Italian_people;-sample -> Category:Business_law;-sample\n",
      "Average Shortest Path Between Categories: 5.349199999999999\n",
      "\n"
     ]
    }
   ],
   "source": [
    "min_max_correlation(test_sample_correlations, sub_cat_list, temp_arr)"
   ]
  },
  {
   "cell_type": "code",
   "execution_count": 92,
   "metadata": {
    "scrolled": true
   },
   "outputs": [
    {
     "data": {
      "text/plain": [
       "[944217,\n",
       " 751875,\n",
       " 590166,\n",
       " 570236,\n",
       " 1638092,\n",
       " 467909,\n",
       " 443203,\n",
       " 423316,\n",
       " 76851,\n",
       " 909843,\n",
       " 628227,\n",
       " 243454,\n",
       " 144975,\n",
       " 1324692,\n",
       " 1621295,\n",
       " 1718334,\n",
       " 319913,\n",
       " 1602001,\n",
       " 733638,\n",
       " 1604255,\n",
       " 1030656,\n",
       " 1166431,\n",
       " 629728,\n",
       " 724125,\n",
       " 632798,\n",
       " 1722080,\n",
       " 1782332,\n",
       " 110651,\n",
       " 270151,\n",
       " 1129958,\n",
       " 1591617,\n",
       " 821490,\n",
       " 400549,\n",
       " 601920,\n",
       " 909500,\n",
       " 570426,\n",
       " 1203608,\n",
       " 749374,\n",
       " 551760,\n",
       " 1694543,\n",
       " 806467,\n",
       " 551439,\n",
       " 1294474,\n",
       " 352668,\n",
       " 449467,\n",
       " 960228,\n",
       " 1700605,\n",
       " 1014031,\n",
       " 588502,\n",
       " 1150212,\n",
       " 1239041,\n",
       " 601197,\n",
       " 155275,\n",
       " 1162031,\n",
       " 68835,\n",
       " 1554930,\n",
       " 1262331,\n",
       " 815237,\n",
       " 451191,\n",
       " 459978,\n",
       " 501211,\n",
       " 825928,\n",
       " 136898,\n",
       " 652361,\n",
       " 1534522,\n",
       " 438329,\n",
       " 1468162,\n",
       " 637599,\n",
       " 560973,\n",
       " 1583408,\n",
       " 604535,\n",
       " 533227,\n",
       " 1738951,\n",
       " 1680791,\n",
       " 1689455,\n",
       " 1255389,\n",
       " 632629,\n",
       " 343907,\n",
       " 1298854,\n",
       " 1378280,\n",
       " 1612073,\n",
       " 1365965,\n",
       " 1112674,\n",
       " 1763575,\n",
       " 922216,\n",
       " 629667,\n",
       " 211645,\n",
       " 1173309,\n",
       " 457849,\n",
       " 922152,\n",
       " 1001433,\n",
       " 687380,\n",
       " 1775387,\n",
       " 1125710,\n",
       " 1550206,\n",
       " 1013746,\n",
       " 744651,\n",
       " 1322934,\n",
       " 804048,\n",
       " 688709]"
      ]
     },
     "execution_count": 92,
     "metadata": {},
     "output_type": "execute_result"
    }
   ],
   "source": [
    "temp_cat_dict.get(temp_arr[13])"
   ]
  },
  {
   "cell_type": "code",
   "execution_count": 97,
   "metadata": {},
   "outputs": [
    {
     "name": "stdout",
     "output_type": "stream",
     "text": [
      "Edna Gundersen\n",
      "Michael de Koningh\n",
      "Faryal\n",
      "Jean Engler\n"
     ]
    }
   ],
   "source": [
    "print(page_titles.get(944217))\n",
    "print(page_titles.get(751875))\n",
    "print(page_titles.get(590166))\n",
    "print(page_titles.get(570236))"
   ]
  },
  {
   "cell_type": "code",
   "execution_count": null,
   "metadata": {},
   "outputs": [],
   "source": []
  }
 ],
 "metadata": {
  "kernelspec": {
   "display_name": "Python 3",
   "language": "python",
   "name": "python3"
  },
  "language_info": {
   "codemirror_mode": {
    "name": "ipython",
    "version": 3
   },
   "file_extension": ".py",
   "mimetype": "text/x-python",
   "name": "python",
   "nbconvert_exporter": "python",
   "pygments_lexer": "ipython3",
   "version": "3.7.3"
  }
 },
 "nbformat": 4,
 "nbformat_minor": 2
}
